{
 "cells": [
  {
   "cell_type": "code",
   "execution_count": null,
   "metadata": {},
   "outputs": [],
   "source": [
    "# Imports\n",
    "import numpy as np\n",
    "import pandas as pd\n",
    "import matplotlib.pyplot as plt\n",
    "import _pickle as cPickle\n",
    "import os\n",
    "# from utilities import SCPInstance, ch1, ch2, ch3, ch4, ch5\n",
    "from improvement_heuristics import ih1\n",
    "from tests import test_SCPInstances\n",
    "\n",
    "\n",
    "# Directories\n",
    "data_dir = '../data'\n",
    "scp_instances_dir = os.path.join(data_dir, 'scp_instances')\n",
    "\n",
    "results_dir = '../results'\n",
    "results_array = os.path.join(results_dir, 'ch1_results.npy')\n",
    "results_array = np.load(results_array, allow_pickle=True)\n",
    "\n",
    "# scp_instances_list =[i for i in os.listdir(scp_instances_dir) if not i.startswith('.')]\n",
    "\n",
    "# print(\"Number of instances in folder: {}\".format(len(scp_instances_list)))\n",
    "\n",
    "test_result = test_SCPInstances()\n",
    "\n",
    "if test_result == 0:\n",
    "    for i in [2]:\n",
    "        results_array = results_array[i]\n",
    "        initial_solution, initial_cost, final_solution, final_cost = ih1(ch_results_array=results_array, scp_instances_dir=scp_instances_dir, random_seed=42, max_iterations=1000000, patience=1000, tabu_thr=10)\n",
    "    # for i in range(len(scp_instances_list)):\n",
    "        # test = SCPInstance(os.path.join(scp_instances_dir, scp_instances_list[i]))\n",
    "        # print(test.scp_instance_filename, test.scp_number_of_rows, test.scp_number_of_columns, test.scp_instance_column_costs.shape, len(test.scp_instance_all_rows))\n",
    "        # print(\"\\nCH1: \")\n",
    "        # sol, cost, proc_sol, proc_cost = ch1(set_covering_problem_instance=test, post_processing=True)\n",
    "        # print(\"\\nCH2: \")\n",
    "        # sol, cost, proc_sol, proc_cost = ch2(set_covering_problem_instance=test, post_processing=True)\n",
    "        # print(\"\\nCH3: \")\n",
    "        # sol, cost, proc_sol, proc_cost = ch3(set_covering_problem_instance=test, post_processing=True)\n",
    "        # print(\"\\nCH4: \")\n",
    "        # sol, cost, proc_sol, proc_cost = ch4(set_covering_problem_instance=test, post_processing=True)\n",
    "        # sol, cost = ch1(set_covering_problem_instance=test, post_processing=False)\n",
    "        # print(\"\\nCH5: \")\n",
    "        # sol, cost, proc_sol, proc_cost = ch5(set_covering_problem_instance=test, post_processing=True)\n",
    "# sol, cost, proc_sol, proc_cost"
   ]
  },
  {
   "cell_type": "code",
   "execution_count": null,
   "metadata": {},
   "outputs": [],
   "source": [
    "initial_solution, initial_cost, final_solution, final_cost"
   ]
  },
  {
   "cell_type": "code",
   "execution_count": null,
   "metadata": {},
   "outputs": [],
   "source": []
  }
 ],
 "metadata": {
  "kernelspec": {
   "display_name": "Python 3",
   "language": "python",
   "name": "python3"
  },
  "language_info": {
   "codemirror_mode": {
    "name": "ipython",
    "version": 3
   },
   "file_extension": ".py",
   "mimetype": "text/x-python",
   "name": "python",
   "nbconvert_exporter": "python",
   "pygments_lexer": "ipython3",
   "version": "3.7.7"
  }
 },
 "nbformat": 4,
 "nbformat_minor": 4
}
