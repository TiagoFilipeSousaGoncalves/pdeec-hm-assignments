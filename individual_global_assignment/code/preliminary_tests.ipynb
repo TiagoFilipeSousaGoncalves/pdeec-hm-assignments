{
 "cells": [
  {
   "cell_type": "code",
   "execution_count": 1,
   "metadata": {},
   "outputs": [
    {
     "name": "stdout",
     "output_type": "stream",
     "text": [
      "Number of instances in folder: 42\n"
     ]
    }
   ],
   "source": [
    "# Imports\n",
    "import numpy as np\n",
    "import pandas as pd\n",
    "import matplotlib.pyplot as plt\n",
    "import _pickle as cPickle\n",
    "import os\n",
    "\n",
    "\n",
    "# Directories\n",
    "data_dir = '../data'\n",
    "scp_instances_dir = os.path.join(data_dir, 'scp_instances')\n",
    "\n",
    "scp_instances_list =[i for i in os.listdir(scp_instances_dir) if not i.startswith('.')]\n",
    "\n",
    "print(\"Number of instances in folder: {}\".format(len(scp_instances_list)))"
   ]
  },
  {
   "cell_type": "code",
   "execution_count": 2,
   "metadata": {},
   "outputs": [
    {
     "name": "stdout",
     "output_type": "stream",
     "text": [
      "We currently have (42,) instances.\n"
     ]
    }
   ],
   "source": [
    "# Read the instances, we have to read them with old-school Python to decode the different dimensions of each line\n",
    "\n",
    "# Create a list of all the instances\n",
    "all_scp_instances = list()\n",
    "for idx, filename in enumerate(scp_instances_list):\n",
    "    instance = open(os.path.join(scp_instances_dir, filename))\n",
    "    # print(\"Current filename: {}\".format(filename))\n",
    "\n",
    "    # We create a list to append the diferent lines\n",
    "    lines = list()\n",
    "\n",
    "    for i, line in enumerate(instance):\n",
    "        # print(i, len(line))\n",
    "        lines.append(line.split(\" \"))\n",
    "\n",
    "    instance.close()\n",
    "    \n",
    "\n",
    "    # print(\"This file has a total of {} lines.\".format(len(lines)))\n",
    "    \n",
    "    \n",
    "    # We reuse the variable into a dict to save several attributes\n",
    "    instance = dict()\n",
    "    \n",
    "    \n",
    "    # Clean the strings that resulted from the file reading\n",
    "    for i, line in enumerate(lines):\n",
    "        line.remove('\\n')\n",
    "        line.remove('')\n",
    "\n",
    "    \n",
    "    # Indices list for the costs and the subsets of variable size\n",
    "    indices_of_costs = list()\n",
    "    \n",
    "    # Check the lines that contain only one element (the cost?)\n",
    "    for i, line in enumerate(lines):\n",
    "        if len(line) == 1:\n",
    "            indices_of_costs.append(i)\n",
    "    \n",
    "    # Append the argument of the last line\n",
    "    indices_of_costs.append(len(lines)-1)\n",
    "    \n",
    "    \n",
    "    # Create the instance\n",
    "    # 1st Index is the Coordinates (?)\n",
    "    instance['coordinates'] = np.array(lines[0], dtype=int)\n",
    "    \n",
    "    # 2nd Index is the Map (?)\n",
    "    # We have to get all the elements of the map (?) first\n",
    "    kind_of_map = list()\n",
    "    for i in range(1, indices_of_costs[0]):\n",
    "        for j in lines[i]:\n",
    "            kind_of_map.append(j)\n",
    "            \n",
    "    instance['map'] = np.array(kind_of_map, dtype=int)\n",
    "    \n",
    "    # 3rd Index is a dict with the costs and the subsets of variable size\n",
    "    # instance['costs_subsets'] = dict()\n",
    "    cost_subsets = list()\n",
    "    # We use the indices_of_costs to get this places and we know that until the next one we are facing subsets!\n",
    "    for i, idx in enumerate(indices_of_costs):\n",
    "        # We get the cost (it is indexed at position 0)\n",
    "        cost = int(lines[idx][0])\n",
    "        # print(cost)\n",
    "        \n",
    "        # Now we get the subset\n",
    "        subset = list()\n",
    "        if idx < indices_of_costs[-1]:\n",
    "        # if idx < indices_of_costs[i+1] and indices_of_costs[i+1] < indices_of_costs[-1]:\n",
    "            for s in range(idx+1, indices_of_costs[i+1]):\n",
    "                # print(s, lines[s])\n",
    "                for j in lines[s]:\n",
    "                    subset.append(j)\n",
    "                    \n",
    "        \n",
    "        subset = np.array(subset, dtype=int)\n",
    "        # print(cost, subset)\n",
    "        \n",
    "        cost_subsets.append([cost, subset])\n",
    "        # print(cost_subsets)\n",
    "    \n",
    "    instance['costs_subsets'] = cost_subsets\n",
    "        \n",
    "    # Append the instance to our list\n",
    "    all_scp_instances.append(instance)\n",
    "\n",
    "# Print the np.shape of all instances array\n",
    "print(\"We currently have {} instances.\".format(np.shape(all_scp_instances)))"
   ]
  },
  {
   "cell_type": "code",
   "execution_count": 3,
   "metadata": {},
   "outputs": [],
   "source": [
    "# Save file for further use\n",
    "with open(os.path.join(data_dir, 'scp_intances_initial.pickle'), 'wb') as f:\n",
    "    cPickle.dump(all_scp_instances, f, -1)"
   ]
  },
  {
   "cell_type": "code",
   "execution_count": null,
   "metadata": {},
   "outputs": [],
   "source": []
  }
 ],
 "metadata": {
  "kernelspec": {
   "display_name": "Python 3",
   "language": "python",
   "name": "python3"
  },
  "language_info": {
   "codemirror_mode": {
    "name": "ipython",
    "version": 3
   },
   "file_extension": ".py",
   "mimetype": "text/x-python",
   "name": "python",
   "nbconvert_exporter": "python",
   "pygments_lexer": "ipython3",
   "version": "3.7.9"
  }
 },
 "nbformat": 4,
 "nbformat_minor": 4
}
