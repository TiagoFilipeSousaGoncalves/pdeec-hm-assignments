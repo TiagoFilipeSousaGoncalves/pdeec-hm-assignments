{
 "cells": [
  {
   "cell_type": "code",
   "execution_count": 1,
   "metadata": {},
   "outputs": [
    {
     "name": "stdout",
     "output_type": "stream",
     "text": [
      "Number of instances in folder: 42\n",
      "Starting CH1 Algorithm...\n",
      "Iteration 1\n",
      "Number of Elements Already Covered: 21\n",
      "Current Cost: 1\n",
      "Current Solution\n",
      "Iteration 2\n",
      "Number of Elements Already Covered: 37\n",
      "Current Cost: 2\n",
      "Current Solution\n",
      "Iteration 3\n",
      "Number of Elements Already Covered: 52\n",
      "Current Cost: 3\n",
      "Current Solution\n",
      "[137, 57, 76] 3\n"
     ]
    }
   ],
   "source": [
    "# Imports\n",
    "import numpy as np\n",
    "import pandas as pd\n",
    "import matplotlib.pyplot as plt\n",
    "import _pickle as cPickle\n",
    "import os\n",
    "from utilities import SCPInstance, ch1\n",
    "from tests import test_SCPInstances\n",
    "\n",
    "\n",
    "# Directories\n",
    "data_dir = '../data'\n",
    "scp_instances_dir = os.path.join(data_dir, 'scp_instances')\n",
    "\n",
    "scp_instances_list =[i for i in os.listdir(scp_instances_dir) if not i.startswith('.')]\n",
    "\n",
    "print(\"Number of instances in folder: {}\".format(len(scp_instances_list)))\n",
    "\n",
    "test_result = test_SCPInstances()\n",
    "\n",
    "if test_result == 0:\n",
    "    test = SCPInstance(os.path.join(scp_instances_dir, scp_instances_list[0]))\n",
    "    print(test.scp_instance_filename)\n",
    "    a, b = ch1(set_covering_problem_instance=test)\n",
    "    print(a, b)"
   ]
  },
  {
   "cell_type": "code",
   "execution_count": null,
   "metadata": {},
   "outputs": [],
   "source": [
    "test.scp_instance_filename"
   ]
  },
  {
   "cell_type": "code",
   "execution_count": null,
   "metadata": {},
   "outputs": [],
   "source": [
    "test.scp_number_of_attributes, test.scp_instance_attribute_map.shape, test.scp_number_of_attributes == test.scp_instance_attribute_map.shape[0]"
   ]
  },
  {
   "cell_type": "code",
   "execution_count": null,
   "metadata": {},
   "outputs": [],
   "source": [
    "test.scp_instance_attribute_map, np.unique(test.scp_instance_attribute_map)# test.scp_instance_attribute_map"
   ]
  },
  {
   "cell_type": "code",
   "execution_count": null,
   "metadata": {},
   "outputs": [],
   "source": [
    "test.scp_number_of_subsets"
   ]
  },
  {
   "cell_type": "code",
   "execution_count": null,
   "metadata": {},
   "outputs": [],
   "source": [
    "np.shape(test.scp_instance_all_subsets), test.scp_instance_all_subsets, len(test.scp_instance_all_subsets) == test.scp_number_of_subsets"
   ]
  },
  {
   "cell_type": "code",
   "execution_count": null,
   "metadata": {},
   "outputs": [],
   "source": []
  }
 ],
 "metadata": {
  "kernelspec": {
   "display_name": "Python 3",
   "language": "python",
   "name": "python3"
  },
  "language_info": {
   "codemirror_mode": {
    "name": "ipython",
    "version": 3
   },
   "file_extension": ".py",
   "mimetype": "text/x-python",
   "name": "python",
   "nbconvert_exporter": "python",
   "pygments_lexer": "ipython3",
   "version": "3.7.7"
  }
 },
 "nbformat": 4,
 "nbformat_minor": 4
}
