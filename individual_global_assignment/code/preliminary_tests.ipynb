{
 "cells": [
  {
   "cell_type": "code",
   "execution_count": 2,
   "metadata": {},
   "outputs": [
    {
     "name": "stdout",
     "output_type": "stream",
     "text": [
      "Number of instances in folder: 42\n",
      "../data/scp_instances/scp43.txt 200 1000 (1000,) 200\n",
      "Final Solution is: [165, 54, 17, 45, 29, 55, 46, 11, 10, 14, 30, 66, 39, 18, 309, 50, 37, 2, 24, 7, 48, 59, 56, 83, 0, 40, 61, 197, 110, 180, 68, 149, 121, 12, 170, 38, 6, 67, 120, 356, 21, 135, 179, 8, 174, 155, 138, 3, 25, 178, 421, 27, 28, 19, 9, 1, 141, 63, 130, 123, 47, 32, 65, 31, 115, 133, 33, 36, 22, 101]\n",
      "Final Cost is: 600\n",
      "Final Solution after processing: [66, 54, 17, 309, 0, 421, 165, 45, 55, 30, 67, 356, 18, 37, 56, 155, 19, 9, 1, 36, 46, 11, 10, 39, 197, 68, 149, 38, 120, 21, 179, 138, 178, 141, 47, 31, 50, 2, 24, 48, 59, 83, 61, 110, 180, 12, 170, 25, 63, 130, 32, 133, 33, 22, 7, 40, 121, 6, 135, 174, 3, 27, 65, 29, 14, 8, 28, 123, 115, 101]\n",
      "Final Cost after processing: 600\n",
      "Final Solution is: [0, 1, 2, 3, 4, 5, 6, 7, 9, 17, 10, 11, 8, 12, 18, 19, 30, 20, 21, 13, 66, 22, 23, 24, 25, 26, 31, 35, 36, 37, 44, 45, 54, 14, 15, 27, 32, 33, 38, 39, 55, 76, 67, 56, 46, 47, 34, 104, 57, 58, 28, 29, 48, 49, 50, 77, 78, 105, 68, 40, 41, 93, 118, 59, 60, 61, 62, 63, 64, 153, 79, 80, 81, 82, 106, 16, 51, 52, 69, 70, 94, 107, 83, 84, 85, 86, 154, 65, 119, 120, 165, 42, 95, 96, 97, 146, 126, 127, 128, 71, 72, 73, 155, 156, 108, 109, 110, 111, 112, 138, 139, 140, 141, 166, 53, 87, 88, 89, 90, 147, 148, 149, 203, 238, 239, 288, 186, 157, 129, 130, 131, 132, 133, 134, 225, 98, 99, 100, 195, 196, 167, 168, 169, 240, 204, 178, 179, 113, 332, 264, 301, 187, 188, 226, 227, 309, 74, 75, 121, 122, 158, 197, 241, 242, 243, 244, 319, 320, 333, 253, 205, 383, 170, 171, 172, 302, 135, 265, 266, 267, 213, 214, 91, 92, 180, 181, 182, 440, 228, 229, 230, 142, 143, 144, 145, 289, 334, 189, 190, 245, 294, 295, 345, 43, 101, 102, 150, 198, 199, 200, 254, 303, 304, 356, 268, 269, 270, 206, 207, 208, 378, 159, 160, 421]\n",
      "Final Cost is: 3054\n",
      "Final Solution after processing: [66, 440, 153, 288, 332, 383, 0, 17, 54, 76, 104, 238, 239, 301, 309, 319, 320, 333, 421, 30, 44, 45, 55, 67, 105, 118, 154, 165, 203, 225, 240, 264, 302, 334, 345, 356, 378, 1, 9, 18, 19, 35, 36, 37, 56, 77, 78, 93, 106, 146, 155, 156, 166, 186, 195, 196, 204, 226, 227, 241, 242, 243, 244, 253, 265, 266, 267, 289, 294, 295, 303, 304, 10, 11, 20, 21, 31, 38, 39, 46, 47, 57, 58, 68, 79, 80, 81, 82, 94, 107, 119, 120, 126, 127, 128, 138, 139, 140, 141, 147, 148, 149, 157, 167, 168, 169, 178, 179, 187, 188, 197, 205, 213, 214, 228, 229, 230, 245, 254, 268, 269, 270, 2, 12, 22, 23, 24, 25, 26, 32, 33, 48, 49, 50, 59, 60, 61, 62, 63, 64, 69, 70, 83, 84, 85, 86, 95, 96, 97, 108, 109, 110, 111, 112, 129, 130, 131, 132, 133, 134, 158, 170, 171, 172, 180, 181, 182, 189, 190, 198, 199, 200, 206, 207, 208, 3]\n",
      "Final Cost after processing: 2688\n"
     ]
    }
   ],
   "source": [
    "# Imports\n",
    "import numpy as np\n",
    "import pandas as pd\n",
    "import matplotlib.pyplot as plt\n",
    "import _pickle as cPickle\n",
    "import os\n",
    "from utilities import SCPInstance, ch1, ch2\n",
    "from tests import test_SCPInstances\n",
    "\n",
    "\n",
    "# Directories\n",
    "data_dir = '../data'\n",
    "scp_instances_dir = os.path.join(data_dir, 'scp_instances')\n",
    "\n",
    "scp_instances_list =[i for i in os.listdir(scp_instances_dir) if not i.startswith('.')]\n",
    "\n",
    "print(\"Number of instances in folder: {}\".format(len(scp_instances_list)))\n",
    "\n",
    "test_result = test_SCPInstances()\n",
    "\n",
    "if test_result == 0:\n",
    "    for i in [1]:\n",
    "    # for i in range(len(scp_instances_list)):\n",
    "        test = SCPInstance(os.path.join(scp_instances_dir, scp_instances_list[i]))\n",
    "        print(test.scp_instance_filename, test.scp_number_of_rows, test.scp_number_of_columns, test.scp_instance_column_costs.shape, len(test.scp_instance_all_rows))\n",
    "        sol, cost, proc_sol, proc_cost = ch1(set_covering_problem_instance=test, post_processing=True)\n",
    "        sol, cost, proc_sol, proc_cost = ch2(set_covering_problem_instance=test, post_processing=True)\n",
    "        # sol, cost = ch1(set_covering_problem_instance=test, post_processing=False)\n",
    "# sol, cost, proc_sol, proc_cost"
   ]
  },
  {
   "cell_type": "code",
   "execution_count": null,
   "metadata": {},
   "outputs": [],
   "source": []
  },
  {
   "cell_type": "code",
   "execution_count": null,
   "metadata": {},
   "outputs": [],
   "source": [
    "a"
   ]
  },
  {
   "cell_type": "code",
   "execution_count": null,
   "metadata": {},
   "outputs": [],
   "source": [
    "b"
   ]
  },
  {
   "cell_type": "code",
   "execution_count": null,
   "metadata": {},
   "outputs": [],
   "source": [
    "test.scp_number_of_subsets"
   ]
  },
  {
   "cell_type": "code",
   "execution_count": null,
   "metadata": {},
   "outputs": [],
   "source": [
    "np.shape(test.scp_instance_all_subsets), test.scp_instance_all_subsets, len(test.scp_instance_all_subsets) == test.scp_number_of_subsets"
   ]
  },
  {
   "cell_type": "code",
   "execution_count": null,
   "metadata": {},
   "outputs": [],
   "source": []
  }
 ],
 "metadata": {
  "kernelspec": {
   "display_name": "Python 3",
   "language": "python",
   "name": "python3"
  },
  "language_info": {
   "codemirror_mode": {
    "name": "ipython",
    "version": 3
   },
   "file_extension": ".py",
   "mimetype": "text/x-python",
   "name": "python",
   "nbconvert_exporter": "python",
   "pygments_lexer": "ipython3",
   "version": "3.7.7"
  }
 },
 "nbformat": 4,
 "nbformat_minor": 4
}
