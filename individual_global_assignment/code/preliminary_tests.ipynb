{
 "cells": [
  {
   "cell_type": "code",
   "execution_count": 3,
   "metadata": {},
   "outputs": [
    {
     "name": "stdout",
     "output_type": "stream",
     "text": [
      "Number of instances in folder: 42\n",
      "../data/scp_instances/scp42.txt\n",
      "Starting CH1 Algorithm...\n",
      "Iteration 1\n",
      "Number of Elements Already Covered: 21\n",
      "Current Cost: 1\n",
      "Current Solution [137]\n",
      "Iteration 2\n",
      "Number of Elements Already Covered: 37\n",
      "Current Cost: 2\n",
      "Current Solution [137, 57]\n",
      "Iteration 3\n",
      "Number of Elements Already Covered: 52\n",
      "Current Cost: 3\n",
      "Current Solution [137, 57, 76]\n",
      "Iteration 4\n",
      "Number of Elements Already Covered: 59\n",
      "Current Cost: 4\n",
      "Current Solution [137, 57, 76, 162]\n",
      "Iteration 5\n",
      "Number of Elements Already Covered: 66\n",
      "Current Cost: 5\n",
      "Current Solution [137, 57, 76, 162, 51]\n",
      "Iteration 6\n",
      "Number of Elements Already Covered: 70\n",
      "Current Cost: 6\n",
      "Current Solution [137, 57, 76, 162, 51, 48]\n",
      "Iteration 7\n",
      "Number of Elements Already Covered: 75\n",
      "Current Cost: 7\n",
      "Current Solution [137, 57, 76, 162, 51, 48, 90]\n",
      "Iteration 8\n",
      "Number of Elements Already Covered: 79\n",
      "Current Cost: 8\n",
      "Current Solution [137, 57, 76, 162, 51, 48, 90, 147]\n",
      "Iteration 9\n",
      "Number of Elements Already Covered: 87\n",
      "Current Cost: 9\n",
      "Current Solution [137, 57, 76, 162, 51, 48, 90, 147, 7]\n",
      "Iteration 10\n",
      "Number of Elements Already Covered: 90\n",
      "Current Cost: 10\n",
      "Current Solution [137, 57, 76, 162, 51, 48, 90, 147, 7, 133]\n",
      "Iteration 11\n",
      "Number of Elements Already Covered: 93\n",
      "Current Cost: 11\n",
      "Current Solution [137, 57, 76, 162, 51, 48, 90, 147, 7, 133, 20]\n",
      "Iteration 12\n",
      "Number of Elements Already Covered: 94\n",
      "Current Cost: 12\n",
      "Current Solution [137, 57, 76, 162, 51, 48, 90, 147, 7, 133, 20, 169]\n",
      "Iteration 13\n",
      "Number of Elements Already Covered: 95\n",
      "Current Cost: 13\n",
      "Current Solution [137, 57, 76, 162, 51, 48, 90, 147, 7, 133, 20, 169, 58]\n",
      "Iteration 14\n",
      "Number of Elements Already Covered: 96\n",
      "Current Cost: 14\n",
      "Current Solution [137, 57, 76, 162, 51, 48, 90, 147, 7, 133, 20, 169, 58, 77]\n",
      "Iteration 15\n",
      "Number of Elements Already Covered: 98\n",
      "Current Cost: 15\n",
      "Current Solution [137, 57, 76, 162, 51, 48, 90, 147, 7, 133, 20, 169, 58, 77, 106]\n",
      "Iteration 16\n",
      "Number of Elements Already Covered: 99\n",
      "Current Cost: 16\n",
      "Current Solution [137, 57, 76, 162, 51, 48, 90, 147, 7, 133, 20, 169, 58, 77, 106, 69]\n",
      "Iteration 17\n",
      "Number of Elements Already Covered: 100\n",
      "Current Cost: 17\n",
      "Current Solution [137, 57, 76, 162, 51, 48, 90, 147, 7, 133, 20, 169, 58, 77, 106, 69, 119]\n",
      "[137, 57, 76, 162, 51, 48, 90, 147, 7, 133, 20, 169, 58, 77, 106, 69, 119] 17\n"
     ]
    }
   ],
   "source": [
    "# Imports\n",
    "import numpy as np\n",
    "import pandas as pd\n",
    "import matplotlib.pyplot as plt\n",
    "import _pickle as cPickle\n",
    "import os\n",
    "from utilities import SCPInstance, ch1\n",
    "from tests import test_SCPInstances\n",
    "\n",
    "\n",
    "# Directories\n",
    "data_dir = '../data'\n",
    "scp_instances_dir = os.path.join(data_dir, 'scp_instances')\n",
    "\n",
    "scp_instances_list =[i for i in os.listdir(scp_instances_dir) if not i.startswith('.')]\n",
    "\n",
    "print(\"Number of instances in folder: {}\".format(len(scp_instances_list)))\n",
    "\n",
    "test_result = test_SCPInstances()\n",
    "\n",
    "if test_result == 0:\n",
    "    test = SCPInstance(os.path.join(scp_instances_dir, scp_instances_list[0]))\n",
    "    print(test.scp_instance_filename)\n",
    "    a, b = ch1(set_covering_problem_instance=test)\n",
    "    print(a, b)"
   ]
  },
  {
   "cell_type": "code",
   "execution_count": null,
   "metadata": {},
   "outputs": [],
   "source": [
    "test.scp_instance_filename"
   ]
  },
  {
   "cell_type": "code",
   "execution_count": null,
   "metadata": {},
   "outputs": [],
   "source": [
    "test.scp_number_of_attributes, test.scp_instance_attribute_map.shape, test.scp_number_of_attributes == test.scp_instance_attribute_map.shape[0]"
   ]
  },
  {
   "cell_type": "code",
   "execution_count": null,
   "metadata": {},
   "outputs": [],
   "source": [
    "test.scp_instance_attribute_map, np.unique(test.scp_instance_attribute_map)# test.scp_instance_attribute_map"
   ]
  },
  {
   "cell_type": "code",
   "execution_count": null,
   "metadata": {},
   "outputs": [],
   "source": [
    "test.scp_number_of_subsets"
   ]
  },
  {
   "cell_type": "code",
   "execution_count": null,
   "metadata": {},
   "outputs": [],
   "source": [
    "np.shape(test.scp_instance_all_subsets), test.scp_instance_all_subsets, len(test.scp_instance_all_subsets) == test.scp_number_of_subsets"
   ]
  },
  {
   "cell_type": "code",
   "execution_count": null,
   "metadata": {},
   "outputs": [],
   "source": []
  }
 ],
 "metadata": {
  "kernelspec": {
   "display_name": "Python 3",
   "language": "python",
   "name": "python3"
  },
  "language_info": {
   "codemirror_mode": {
    "name": "ipython",
    "version": 3
   },
   "file_extension": ".py",
   "mimetype": "text/x-python",
   "name": "python",
   "nbconvert_exporter": "python",
   "pygments_lexer": "ipython3",
   "version": "3.7.7"
  }
 },
 "nbformat": 4,
 "nbformat_minor": 4
}
